{
  "cells": [
    {
      "cell_type": "markdown",
      "metadata": {
        "id": "sp7D0ktn5eiG"
      },
      "source": [
        "## Tweet Emotion Recognition: Natural Language Processing with TensorFlow\n",
        "\n",
        "---\n",
        "\n",
        "Dataset: [Tweet Emotion Dataset](https://github.com/dair-ai/emotion_dataset)\n",
        "\n",
        "This is a starter notebook for the guided project [Tweet Emotion Recognition with TensorFlow](https://www.coursera.org/projects/tweet-emotion-tensorflow)\n",
        "\n",
        "A complete version of this notebook is available in the course resources\n",
        "\n",
        "---\n",
        "\n",
        "## Task 1: Introduction"
      ]
    },
    {
      "cell_type": "markdown",
      "metadata": {
        "id": "cprXxkrMxIgT"
      },
      "source": [
        "## Task 2: Setup and Imports\n",
        "\n",
        "1. Installing Hugging Face's nlp package\n",
        "2. Importing libraries"
      ]
    },
    {
      "cell_type": "code",
      "execution_count": 2,
      "metadata": {
        "id": "yKFjWz6e5eiH"
      },
      "outputs": [
        {
          "name": "stdout",
          "output_type": "stream",
          "text": [
            "Using TensorFlow version 2.9.1\n"
          ]
        }
      ],
      "source": [
        "%matplotlib inline\n",
        "\n",
        "import tensorflow as tf\n",
        "import numpy as np\n",
        "import matplotlib.pyplot as plt\n",
        "import nlp\n",
        "import random\n",
        "from sklearn.metrics import confusion_matrix\n",
        "\n",
        "def show_history(h):\n",
        "    epochs_trained = len(h.history['loss'])\n",
        "    plt.figure(figsize=(16, 6))\n",
        "\n",
        "    plt.subplot(1, 2, 1)\n",
        "    plt.plot(range(0, epochs_trained), h.history.get('accuracy'), label='Training')\n",
        "    plt.plot(range(0, epochs_trained), h.history.get('val_accuracy'), label='Validation')\n",
        "    plt.ylim([0., 1.])\n",
        "    plt.xlabel('Epochs')\n",
        "    plt.ylabel('Accuracy')\n",
        "    plt.legend()\n",
        "\n",
        "    plt.subplot(1, 2, 2)\n",
        "    plt.plot(range(0, epochs_trained), h.history.get('loss'), label='Training')\n",
        "    plt.plot(range(0, epochs_trained), h.history.get('val_loss'), label='Validation')\n",
        "    plt.xlabel('Epochs')\n",
        "    plt.ylabel('Loss')\n",
        "    plt.legend()\n",
        "    plt.show()\n",
        "\n",
        "    \n",
        "def show_confusion_matrix(y_true, y_pred, classes):\n",
        "    \n",
        "    cm = confusion_matrix(y_true, y_pred, normalize='true')\n",
        "\n",
        "    plt.figure(figsize=(8, 8))\n",
        "    sp = plt.subplot(1, 1, 1)\n",
        "    ctx = sp.matshow(cm)\n",
        "    plt.xticks(list(range(0, 6)), labels=classes)\n",
        "    plt.yticks(list(range(0, 6)), labels=classes)\n",
        "    plt.colorbar(ctx)\n",
        "    plt.show()\n",
        "\n",
        "    \n",
        "print('Using TensorFlow version', tf.__version__)"
      ]
    },
    {
      "cell_type": "markdown",
      "metadata": {
        "id": "7JsBpezExIga"
      },
      "source": [
        "## Task 3: Importing Data\n",
        "\n",
        "1. Importing the Tweet Emotion dataset\n",
        "2. Creating train, validation and test sets\n",
        "3. Extracting tweets and labels from the examples"
      ]
    },
    {
      "cell_type": "code",
      "execution_count": 3,
      "metadata": {
        "id": "0YHOvjAu5eiL"
      },
      "outputs": [
        {
          "name": "stderr",
          "output_type": "stream",
          "text": [
            "Using custom data configuration default\n"
          ]
        }
      ],
      "source": [
        "dataset = nlp.load_dataset('emotion')"
      ]
    },
    {
      "cell_type": "code",
      "execution_count": 4,
      "metadata": {
        "id": "2s0h541FxIgc"
      },
      "outputs": [
        {
          "data": {
            "text/plain": [
              "{'train': Dataset(features: {'text': Value(dtype='string', id=None), 'label': Value(dtype='string', id=None)}, num_rows: 16000),\n",
              " 'validation': Dataset(features: {'text': Value(dtype='string', id=None), 'label': Value(dtype='string', id=None)}, num_rows: 2000),\n",
              " 'test': Dataset(features: {'text': Value(dtype='string', id=None), 'label': Value(dtype='string', id=None)}, num_rows: 2000)}"
            ]
          },
          "execution_count": 4,
          "metadata": {},
          "output_type": "execute_result"
        }
      ],
      "source": [
        "dataset"
      ]
    },
    {
      "cell_type": "code",
      "execution_count": 5,
      "metadata": {
        "id": "z7eCnxU25eiN"
      },
      "outputs": [],
      "source": [
        "train = dataset['train']\n",
        "val = dataset['validation']\n",
        "test = dataset['test']"
      ]
    },
    {
      "cell_type": "code",
      "execution_count": 6,
      "metadata": {
        "id": "oDYXMfZy5eiP"
      },
      "outputs": [],
      "source": [
        "def get_tweet(data):\n",
        "  tweets = [x['text'] for x in data]\n",
        "  labels = [x['label'] for x in data]\n",
        "  return tweets, labels"
      ]
    },
    {
      "cell_type": "code",
      "execution_count": 7,
      "metadata": {
        "id": "jeq3-vSB5eiR"
      },
      "outputs": [],
      "source": [
        "tweets, labels = get_tweet(train)"
      ]
    },
    {
      "cell_type": "code",
      "execution_count": 8,
      "metadata": {
        "id": "bHD3Tk0J5eiU"
      },
      "outputs": [
        {
          "data": {
            "text/plain": [
              "('i can go from feeling so hopeless to so damned hopeful just from being around someone who cares and is awake',\n",
              " 'sadness')"
            ]
          },
          "execution_count": 8,
          "metadata": {},
          "output_type": "execute_result"
        }
      ],
      "source": [
        "tweets[1], labels[1]"
      ]
    },
    {
      "cell_type": "markdown",
      "metadata": {
        "id": "gcAflLv6xIgp"
      },
      "source": [
        "## Task 4: Tokenizer\n",
        "\n",
        "1. Tokenizing the tweets"
      ]
    },
    {
      "cell_type": "code",
      "execution_count": 9,
      "metadata": {
        "id": "qfX5-ResxIgq"
      },
      "outputs": [],
      "source": [
        "from tensorflow.keras.preprocessing.text import Tokenizer"
      ]
    },
    {
      "cell_type": "code",
      "execution_count": 10,
      "metadata": {
        "id": "cckUvwBo5eif"
      },
      "outputs": [],
      "source": [
        "tokenizer = Tokenizer(num_words=10000, oov_token='<UNK>') # Out of Vocabulary\n",
        "tokenizer.fit_on_texts(tweets) # Train Tokenizer"
      ]
    },
    {
      "cell_type": "code",
      "execution_count": 11,
      "metadata": {},
      "outputs": [
        {
          "data": {
            "text/plain": [
              "[[2, 139, 3, 679]]"
            ]
          },
          "execution_count": 11,
          "metadata": {},
          "output_type": "execute_result"
        }
      ],
      "source": [
        "tokenizer.texts_to_sequences([tweets[0]]) # Example"
      ]
    },
    {
      "cell_type": "code",
      "execution_count": 12,
      "metadata": {},
      "outputs": [
        {
          "data": {
            "text/plain": [
              "'i didnt feel humiliated'"
            ]
          },
          "execution_count": 12,
          "metadata": {},
          "output_type": "execute_result"
        }
      ],
      "source": [
        "tweets[0] # I = 2, didnt = 139, feel = 3, humiliated = 679"
      ]
    },
    {
      "cell_type": "markdown",
      "metadata": {
        "id": "i3Bqm7b2xIgu"
      },
      "source": [
        "## Task 5: Padding and Truncating Sequences\n",
        "\n",
        "1. Checking length of the tweets\n",
        "2. Creating padded sequences"
      ]
    },
    {
      "cell_type": "code",
      "execution_count": 13,
      "metadata": {
        "id": "mLvf_WFZxIgu"
      },
      "outputs": [
        {
          "data": {
            "image/png": "[encoded data removed]",
            "text/plain": [
              "<Figure size 432x288 with 1 Axes>"
            ]
          },
          "metadata": {
            "needs_background": "light"
          },
          "output_type": "display_data"
        }
      ],
      "source": [
        "lengths = [len(t.split(' ')) for t in tweets]\n",
        "plt.hist(lengths, bins= len(set(lengths)))\n",
        "plt.show()"
      ]
    },
    {
      "cell_type": "code",
      "execution_count": 14,
      "metadata": {
        "id": "EOi5lIE3xIgx"
      },
      "outputs": [],
      "source": [
        "maxlen = 50\n",
        "\n",
        "from tensorflow.keras.preprocessing.sequence import pad_sequences\n"
      ]
    },
    {
      "cell_type": "code",
      "execution_count": 15,
      "metadata": {
        "id": "Q9J_Iemf5eiq"
      },
      "outputs": [],
      "source": [
        "def get_sequences(tokenizer, tweets):\n",
        "  sequences = tokenizer.texts_to_sequences(tweets)\n",
        "  padded = pad_sequences(sequences, truncating='post', padding='post', maxlen=maxlen)\n",
        "  return padded"
      ]
    },
    {
      "cell_type": "code",
      "execution_count": 16,
      "metadata": {
        "id": "eglH77ky5ei0"
      },
      "outputs": [],
      "source": [
        "padded_train_seq = get_sequences(tokenizer, tweets)"
      ]
    },
    {
      "cell_type": "code",
      "execution_count": 18,
      "metadata": {
        "id": "iGR473HA5ei7"
      },
      "outputs": [
        {
          "data": {
            "text/plain": [
              "50"
            ]
          },
          "execution_count": 18,
          "metadata": {},
          "output_type": "execute_result"
        }
      ],
      "source": [
        "padded_train_seq[0]"
      ]
    },
    {
      "cell_type": "markdown",
      "metadata": {
        "id": "BURhOX_KxIg8"
      },
      "source": [
        "## Task 6: Preparing the Labels\n",
        "\n",
        "1. Creating classes to index and index to classes dictionaries\n",
        "2. Converting text labels to numeric labels"
      ]
    },
    {
      "cell_type": "code",
      "execution_count": null,
      "metadata": {
        "id": "SufT2bpD5ejE"
      },
      "outputs": [],
      "source": []
    },
    {
      "cell_type": "code",
      "execution_count": null,
      "metadata": {
        "id": "rpwzL88I7YSm"
      },
      "outputs": [],
      "source": []
    },
    {
      "cell_type": "code",
      "execution_count": null,
      "metadata": {
        "id": "dNLF6rXL5ejN"
      },
      "outputs": [],
      "source": []
    },
    {
      "cell_type": "code",
      "execution_count": null,
      "metadata": {
        "id": "_08InVyM5ejc"
      },
      "outputs": [],
      "source": []
    },
    {
      "cell_type": "code",
      "execution_count": null,
      "metadata": {
        "id": "gpeDoA6gxIhE"
      },
      "outputs": [],
      "source": []
    },
    {
      "cell_type": "code",
      "execution_count": null,
      "metadata": {
        "id": "Jq0WJYsP5ejR"
      },
      "outputs": [],
      "source": []
    },
    {
      "cell_type": "code",
      "execution_count": null,
      "metadata": {
        "id": "v15KnrNC5ejW"
      },
      "outputs": [],
      "source": []
    },
    {
      "cell_type": "markdown",
      "metadata": {
        "id": "c-v0Mnh8xIhP"
      },
      "source": [
        "## Task 7: Creating the Model\n",
        "\n",
        "1. Creating the model\n",
        "2. Compiling the model"
      ]
    },
    {
      "cell_type": "code",
      "execution_count": null,
      "metadata": {
        "id": "OpewXxPQ5eji"
      },
      "outputs": [],
      "source": []
    },
    {
      "cell_type": "markdown",
      "metadata": {
        "id": "1HST_CHjxIhR"
      },
      "source": [
        "## Task 8: Training the Model\n",
        "\n",
        "1. Preparing a validation set\n",
        "2. Training the model"
      ]
    },
    {
      "cell_type": "code",
      "execution_count": null,
      "metadata": {
        "id": "Ff7F3hCK5ejm"
      },
      "outputs": [],
      "source": []
    },
    {
      "cell_type": "code",
      "execution_count": null,
      "metadata": {
        "id": "hlMKaZ3H5ejr"
      },
      "outputs": [],
      "source": []
    },
    {
      "cell_type": "code",
      "execution_count": null,
      "metadata": {
        "id": "bzBqnWQ-5ejw"
      },
      "outputs": [],
      "source": []
    },
    {
      "cell_type": "markdown",
      "metadata": {
        "id": "EdsJyMTLxIhX"
      },
      "source": [
        "## Task 9: Evaluating the Model\n",
        "\n",
        "1. Visualizing training history\n",
        "2. Prepraring a test set\n",
        "3. A look at individual predictions on the test set\n",
        "4. A look at all predictions on the test set"
      ]
    },
    {
      "cell_type": "code",
      "execution_count": null,
      "metadata": {
        "id": "ENCfvXeLxIhX"
      },
      "outputs": [],
      "source": []
    },
    {
      "cell_type": "code",
      "execution_count": null,
      "metadata": {
        "id": "kWuzoz8uxIha"
      },
      "outputs": [],
      "source": []
    },
    {
      "cell_type": "code",
      "execution_count": null,
      "metadata": {
        "id": "7vRVJ_2SxIhc"
      },
      "outputs": [],
      "source": []
    },
    {
      "cell_type": "code",
      "execution_count": null,
      "metadata": {
        "id": "rh638vHG5ej6"
      },
      "outputs": [],
      "source": []
    },
    {
      "cell_type": "code",
      "execution_count": null,
      "metadata": {
        "id": "hHl5SVCFxIhh"
      },
      "outputs": [],
      "source": []
    },
    {
      "cell_type": "code",
      "execution_count": null,
      "metadata": {
        "id": "NC8YQ0OexIhj"
      },
      "outputs": [],
      "source": []
    }
  ],
  "metadata": {
    "accelerator": "GPU",
    "colab": {
      "collapsed_sections": [],
      "name": "Tweet Emotion Recognition - Learner.ipynb",
      "provenance": []
    },
    "kernelspec": {
      "display_name": "Python 3.10.5 64-bit",
      "language": "python",
      "name": "python3"
    },
    "language_info": {
      "codemirror_mode": {
        "name": "ipython",
        "version": 3
      },
      "file_extension": ".py",
      "mimetype": "text/x-python",
      "name": "python",
      "nbconvert_exporter": "python",
      "pygments_lexer": "ipython3",
      "version": "3.10.5"
    },
    "vscode": {
      "interpreter": {
        "hash": "16ba307f1ca174a4e59f0372d4a426aad1717214087930fa8b536a67eb29b9cd"
      }
    }
  },
  "nbformat": 4,
  "nbformat_minor": 0
}
